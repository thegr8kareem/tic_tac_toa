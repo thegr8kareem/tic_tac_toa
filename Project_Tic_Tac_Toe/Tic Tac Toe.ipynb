{
 "cells": [
  {
   "cell_type": "code",
   "execution_count": 49,
   "id": "cc2889dc",
   "metadata": {},
   "outputs": [
    {
     "name": "stdout",
     "output_type": "stream",
     "text": [
      "This is a sample\n",
      "[[1. 2. 3.]\n",
      " [4. 5. 6.]\n",
      " [7. 8. 9.]]\n",
      "Player 1 uses X\n",
      "Player 2 uses O\n",
      "[2, 8, 14]\n",
      " ---  ---  --- \n",
      "| 0 | | 0 | | 0 |\n",
      "X---XX---XX---X\n",
      " ---  ---  --- \n",
      "| 0 | | 0 | | 0 |\n",
      " ---  ---  --- \n",
      " ---  ---  --- \n",
      "| 0 | | 0 | | 0 |\n",
      " ---  ---  --- \n"
     ]
    }
   ],
   "source": [
    "import numpy as np\n",
    "\n",
    "dash = ' --- '*3\n",
    "line1 = '| 0 | | 0 | | 0 |'   \n",
    "line2 = '| 0 | | 0 | | 0 |'   \n",
    "line3 = '| 0 | | 0 | | 0 |'   \n",
    "        \n",
    "# Sample\n",
    "sample = np.ones((3,3))\n",
    "m = 0\n",
    "\n",
    "framework = [dash,line1,dash,dash,line2,dash,dash,line3,dash]\n",
    "\n",
    "def matt():\n",
    "    global m   \n",
    "    for i in range(sample.shape[0]):\n",
    "#         mat[i] = int(input('Enter your number: '))\n",
    "        for j in range(sample.shape[1]):\n",
    "            m += 1\n",
    "            sample[i][j] = m\n",
    "    print('This is a sample')\n",
    "    print(sample)\n",
    "    \n",
    "matt()\n",
    "\n",
    "print('Player 1 uses X')\n",
    "print('Player 2 uses O')\n",
    "\n",
    "position_used  = []\n",
    "def position():\n",
    "    global question\n",
    "    question = int(input('Using the sample,pick a number you\"d like to replace with your value: '))\n",
    "    position_used.append(question)\n",
    "    return question\n",
    "\n",
    "\n",
    "def player1():\n",
    "    player1 = input('Enter your value:')\n",
    "    \n",
    "def player2():\n",
    "    player1 = input('Enter your value:')    \n",
    "    \n",
    "# players = [player1(),player2()]  \n",
    "\n",
    "list1 = []\n",
    "\n",
    "def index_locater():\n",
    "    n = 1                 \n",
    "    for j in range(3):\n",
    "        global list1\n",
    "        index_location = line1.index('0',n)\n",
    "        n += 4\n",
    "        list1.append(index_location)\n",
    "index_locater()\n",
    "print(list1)\n",
    "\n",
    "def tic_tac_toe():\n",
    "    # For the tic tac toe game layout\n",
    "\n",
    "        \n",
    "    for i in range(3):\n",
    "            global framework\n",
    "            position()\n",
    "\n",
    "\n",
    "            if position_used[i] == 1:\n",
    "                framework[2]  = framework[2].replace(framework[2][2],'X')\n",
    "            if  position_used[i] == 2:\n",
    "                framework[2]  = framework[2].replace(framework[2][8],'X')\n",
    "            if position_used[i]== 3:\n",
    "                framework[2]  = framework[2].replace(framework[2][14],'X')\n",
    "\n",
    "            if position_used[i] == 4:\n",
    "                framework[4]  = framework[4].replace(framework[2][2],'X')\n",
    "            if position_used[i] == 5:\n",
    "                framework[4]  = framework[4].replace(framework[2][8],'X')\n",
    "            if  position_used[i]== 6:\n",
    "                framework[4]  = framework[4].replace(framework[2][14],'X')\n",
    "                \n",
    "            if position_used[i] == 7:\n",
    "                framework[7]  = framework[7].replace(framework[2][2],'X')\n",
    "            if position_used[i] == 8:\n",
    "                framework[7]  = framework[7].replace(framework[2][8],'X')\n",
    "            if position_used[i] == 9:\n",
    "                framework[7]  = framework[7].replace(framework[2][14],'X')\n",
    "\n",
    "    for j in range(len(framework)):\n",
    "        print(framework[j])\n",
    "            \n",
    "        # else:\n",
    "            # print(dash)\n",
    "            \n",
    "                \n",
    "     # The fixation of values\n",
    "#     if question == True:\n",
    "#         if player1 == True:\n",
    "#             if question == 1:\n",
    "#                 line.replace(line[2],'X')\n",
    "#             if question == 2:\n",
    "#                 line.replace(line[7],'X')\n",
    "#             if question == 3:\n",
    "#                 line.replace(line[12],'X')\n",
    "\n",
    "tic_tac_toe()   \n",
    "# Zero means empty slots    "
   ]
  },
  {
   "cell_type": "code",
   "execution_count": 45,
   "id": "539afedd",
   "metadata": {},
   "outputs": [
    {
     "data": {
      "text/plain": [
       "'|'"
      ]
     },
     "execution_count": 45,
     "metadata": {},
     "output_type": "execute_result"
    }
   ],
   "source": [
    "position_used\n",
    "line2\n",
    "line2.replace(line2[2],'X')\n",
    "line2[12]\n",
    "\n",
    "# list2 = \"456\"\n",
    "# list2.replace(list2[2],\"8\")"
   ]
  }
 ],
 "metadata": {
  "kernelspec": {
   "display_name": "base",
   "language": "python",
   "name": "python3"
  },
  "language_info": {
   "codemirror_mode": {
    "name": "ipython",
    "version": 3
   },
   "file_extension": ".py",
   "mimetype": "text/x-python",
   "name": "python",
   "nbconvert_exporter": "python",
   "pygments_lexer": "ipython3",
   "version": "3.9.12"
  },
  "vscode": {
   "interpreter": {
    "hash": "39c7b37d6762cfe19229bab84e4ee64294204dff90d2328d694afe7c1bd1a71d"
   }
  }
 },
 "nbformat": 4,
 "nbformat_minor": 5
}
