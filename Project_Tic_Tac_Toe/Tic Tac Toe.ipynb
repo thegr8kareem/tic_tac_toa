{
 "cells": [
  {
   "cell_type": "code",
   "execution_count": 25,
   "id": "cc2889dc",
   "metadata": {},
   "outputs": [
    {
     "name": "stdout",
     "output_type": "stream",
     "text": [
      "This is a sample\n",
      "[[1. 2. 3.]\n",
      " [4. 5. 6.]\n",
      " [7. 8. 9.]]\n",
      "Player 1 uses X\n",
      "Player 2 uses O\n",
      " ---  ---  --- \n",
      "['|', '0', '|', '|', 'X', '|', '|', '0', '|']\n",
      " ---  ---  --- \n",
      " ---  ---  --- \n",
      "['|', '0', '|', '|', '0', '|', '|', 'X', '|']\n",
      " ---  ---  --- \n",
      " ---  ---  --- \n",
      "['|', '0', '|', '|', '0', '|', '|', 'X', '|']\n",
      " ---  ---  --- \n"
     ]
    }
   ],
   "source": [
    "# import numpy as np\n",
    "\n",
    "# dash = ' --- ' * 3\n",
    "# line1 = [\"|\", '0' , '|' , '|',  '0', '|', '|', '0', '|']   \n",
    "# line2 = [\"|\", '0' , '|' , '|',  '0', '|', '|', '0', '|']   \n",
    "# line3 = [\"|\", '0' , '|' , '|',  '0', '|', '|', '0', '|']   \n",
    "        \n",
    "# # Sample\n",
    "# sample = np.ones((3,3))\n",
    "# m = 0\n",
    "\n",
    "# framework = [dash,line1,dash,dash,line2,dash,dash,line3,dash]\n",
    "\n",
    "# def matt():\n",
    "#     global m   \n",
    "#     for i in range(sample.shape[0]):\n",
    "# #         mat[i] = int(input('Enter your number: '))\n",
    "#         for j in range(sample.shape[1]):\n",
    "#             m += 1\n",
    "#             sample[i][j] = m\n",
    "#     print('This is a sample')\n",
    "#     print(sample)\n",
    "    \n",
    "# matt()\n",
    "\n",
    "# print('Player 1 uses X')\n",
    "# print('Player 2 uses O')\n",
    "\n",
    "# position_used  = []\n",
    "# def position():\n",
    "#     global question\n",
    "#     question = int(input('Using the sample,pick a number you\"d like to replace with your value: '))\n",
    "#     position_used.append(question)\n",
    "#     return question\n",
    "\n",
    "\n",
    "# def player1():\n",
    "#     player1 = input('Enter your value:')\n",
    "    \n",
    "# def player2():\n",
    "#     player1 = input('Enter your value:')    \n",
    "    \n",
    "# # players = [player1(),player2()]  \n",
    "\n",
    "# # list1 = []\n",
    "\n",
    "# # def index_locater():\n",
    "# #     n = 1                 \n",
    "# #     for j in range(3):\n",
    "# #         global list1\n",
    "# #         index_location = line1.index('0',n)\n",
    "# #         n += 4\n",
    "# #         list1.append(index_location)\n",
    "# # index_locater()\n",
    "# # print(list1)\n",
    "\n",
    "# def tic_tac_toe():\n",
    "#     # For the tic tac toe game layout\n",
    "\n",
    "        \n",
    "#     for i in range(3):\n",
    "#             global framework\n",
    "#             position()\n",
    "\n",
    "\n",
    "#             if position_used[i] == 1:\n",
    "#                 line1[1] ='X'\n",
    "#                 # joint = ('').join(line1)\n",
    "#             if  position_used[i] == 2:\n",
    "#                 line1[4] ='X'\n",
    "#             if position_used[i]== 3:\n",
    "#                 line1[7] ='X'\n",
    "\n",
    "#             if position_used[i] == 4:\n",
    "#                 line2[1] = 'X'\n",
    "#             if position_used[i] == 5:\n",
    "#                 line2[4] = 'X'\n",
    "#             if  position_used[i] == 6:\n",
    "#                 line2[7] ='X'\n",
    "                \n",
    "#             if position_used[i] == 7:\n",
    "#                 line3[1] = 'X'\n",
    "#             if position_used[i] == 8:\n",
    "#                 line3[4] = 'X'\n",
    "#             if position_used[i] == 9:\n",
    "#                 line3[7] = 'X'\n",
    "\n",
    "#     # for j in range(len(framework)):\n",
    "\n",
    "#     #     print(framework[j])\n",
    "\n",
    "#     def layout():\n",
    "#         joint1 = ('').join(line1)\n",
    "#         joint2 = ('').join(line2)\n",
    "#         joint3 = ('').join(line3)\n",
    "        \n",
    "#         print(dash)\n",
    "#         print(line1)\n",
    "#         print(dash)\n",
    "#         print(dash)\n",
    "#         print(line2)\n",
    "#         print(dash)\n",
    "#         print(dash)\n",
    "#         print(line3)\n",
    "#         print(dash)\n",
    "#     layout()\n",
    "        \n",
    "\n",
    "            \n",
    "#         # else:\n",
    "#             # print(dash)\n",
    "            \n",
    "                \n",
    "#      # The fixation of values\n",
    "# #     if question == True:\n",
    "# #         if player1 == True:\n",
    "# #             if question == 1:\n",
    "# #                 line.replace(line[2],'X')\n",
    "# #             if question == 2:-\n",
    "# #                 line.replace(line[7],'X')\n",
    "# #             if question == 3:\n",
    "# #                 line.replace(line[12],'X')\n",
    "\n",
    "# tic_tac_toe()   \n",
    "# Zero means empty slots    "
   ]
  },
  {
   "cell_type": "code",
   "execution_count": 17,
   "id": "539afedd",
   "metadata": {},
   "outputs": [
    {
     "data": {
      "text/plain": [
       "['|', 9, '|', '|', '0', '|', '|', '0', '|']"
      ]
     },
     "execution_count": 17,
     "metadata": {},
     "output_type": "execute_result"
    }
   ],
   "source": [
    "# # position_used\n",
    "# # line2\n",
    "# # line2.replace(line2[6],'X')\n",
    "# # line = [line2]\n",
    "\n",
    "# # line.remove(line[0])\n",
    "# # line = framework\n",
    "# line1 = [\"|\", '0' , '|' , '|',  '0', '|', '|', '0', '|']\n",
    "# line1[1] = 9\n",
    "# line1\n",
    "# # line1.index('0')\n",
    "\n",
    "# # for j in range(len(framework)):\n",
    "# #     print(line[j])\n",
    "\n",
    "# # print(line[1][2])\n",
    "# # line[1].re\n",
    "# # line\n",
    "# # list2.replace(list2[2],\"8\")\n",
    "\n",
    "\n",
    "# # crate alist of line1\n",
    "# # access teh things individually\n"
   ]
  },
  {
   "cell_type": "code",
   "execution_count": 4,
   "id": "7470038d",
   "metadata": {},
   "outputs": [
    {
     "name": "stdout",
     "output_type": "stream",
     "text": [
      "This is a sample\n",
      "[[1. 2. 3.]\n",
      " [4. 5. 6.]\n",
      " [7. 8. 9.]]\n"
     ]
    }
   ],
   "source": [
    "import numpy as np\n",
    "\n",
    "sample = np.ones((3,3))\n",
    "m = 0\n",
    "\n",
    "\n",
    "def matt():\n",
    "    global m  \n",
    "    global sample \n",
    "    for i in range(sample.shape[0]):\n",
    "#         mat[i] = int(input('Enter your number: '))\n",
    "        for j in range(sample.shape[1]):\n",
    "            m += 1\n",
    "            sample[i][j] = m\n",
    "    print('This is a sample')\n",
    "    print(sample)\n",
    "    \n",
    "matt()\n"
   ]
  },
  {
   "cell_type": "code",
   "execution_count": 12,
   "id": "a5a915ff",
   "metadata": {},
   "outputs": [
    {
     "name": "stdout",
     "output_type": "stream",
     "text": [
      "X   O   _   \n",
      "\n",
      "X   _   _   \n",
      "\n",
      "O   O   X   \n",
      "\n"
     ]
    }
   ],
   "source": [
    "\n"
   ]
  }
 ],
 "metadata": {
  "kernelspec": {
   "display_name": "base",
   "language": "python",
   "name": "python3"
  },
  "language_info": {
   "codemirror_mode": {
    "name": "ipython",
    "version": 3
   },
   "file_extension": ".py",
   "mimetype": "text/x-python",
   "name": "python",
   "nbconvert_exporter": "python",
   "pygments_lexer": "ipython3",
   "version": "3.9.12"
  },
  "vscode": {
   "interpreter": {
    "hash": "39c7b37d6762cfe19229bab84e4ee64294204dff90d2328d694afe7c1bd1a71d"
   }
  }
 },
 "nbformat": 4,
 "nbformat_minor": 5
}
